{
 "cells": [
  {
   "cell_type": "markdown",
   "id": "378ea579",
   "metadata": {},
   "source": [
    "### 삼항연산자\n",
    "- a if 조건식 else b\n",
    "- 조건식이 true 라면 a 실행 false 라면 b 실행"
   ]
  },
  {
   "cell_type": "code",
   "execution_count": 1,
   "id": "839af17a",
   "metadata": {},
   "outputs": [
    {
     "data": {
      "text/plain": [
       "'합격'"
      ]
     },
     "execution_count": 1,
     "metadata": {},
     "output_type": "execute_result"
    }
   ],
   "source": [
    "score =80\n",
    "\"합격\" if score >=60 else \"불합격\""
   ]
  },
  {
   "cell_type": "code",
   "execution_count": 2,
   "id": "476e260f",
   "metadata": {},
   "outputs": [
    {
     "name": "stdout",
     "output_type": "stream",
     "text": [
      "정수입력 >> 1\n",
      "정수입력 >> 1\n",
      "a:10\n",
      "a:1\n"
     ]
    }
   ],
   "source": [
    "a=int(input(\"정수입력 >> \"))\n",
    "b=int(input(\"정수입력 >> \"))\n",
    "'b:10' if b>a else 'a:10'\n",
    "print(\"b:10\") if b>a else print(\"a:10\")\n",
    "print(f'b:{b}') if a<b else print(f'a:{a}')"
   ]
  },
  {
   "cell_type": "code",
   "execution_count": 3,
   "id": "a64ef5f2",
   "metadata": {},
   "outputs": [
    {
     "name": "stdout",
     "output_type": "stream",
     "text": [
      "정수입력 >> 1\n",
      "정수입력 >> 2\n",
      "두수의 차 : 1\n"
     ]
    }
   ],
   "source": [
    "a,b =(int(input(\"정수입력 >> \")), int(input(\"정수입력 >> \")))\n",
    "print(f\"두수의 차 : {a-b}\") if a>=b else print(f\"두수의 차 : {b-a}\")"
   ]
  },
  {
   "cell_type": "code",
   "execution_count": 4,
   "id": "ffb1dbfb",
   "metadata": {},
   "outputs": [
    {
     "name": "stdout",
     "output_type": "stream",
     "text": [
      "정수입력 >> 3\n",
      "3는(은) 홀수 입니다.\n"
     ]
    }
   ],
   "source": [
    "a= int(input(\"정수입력 >> \"))\n",
    "print(f\"{a}는(은) 홀수 입니다.\") if a%2==1 else print(f\"{a}는(은) 짝수 입니다.\")"
   ]
  },
  {
   "cell_type": "code",
   "execution_count": 5,
   "id": "697751cf",
   "metadata": {},
   "outputs": [
    {
     "name": "stdout",
     "output_type": "stream",
     "text": [
      "정수입력 >> 4\n",
      "4는(은) 홀수입니다.\n"
     ]
    }
   ],
   "source": [
    "num= int(input(\"정수입력 >> \"))\n",
    "result = \"홀수\" if a%2==1 else \"짝수\"\n",
    "print(f\"{num}는(은) {result}입니다.\")"
   ]
  },
  {
   "cell_type": "markdown",
   "id": "7a086da6",
   "metadata": {},
   "source": [
    "### 조건문\n",
    "- if, elif, else\n",
    "- if True:\n",
    "    print(\"실행문장\") <- true일 때만 실행\n",
    "- if False: \n",
    "    print(\"실행문장\") <- false일 땐 실행x"
   ]
  },
  {
   "cell_type": "code",
   "execution_count": 6,
   "id": "53418423",
   "metadata": {},
   "outputs": [
    {
     "name": "stdout",
     "output_type": "stream",
     "text": [
      "if문 밖에 있는 문장 실행\n"
     ]
    }
   ],
   "source": [
    "if False:\n",
    "    print('실행문장실행')\n",
    "print('if문 밖에 있는 문장 실행')    "
   ]
  },
  {
   "cell_type": "code",
   "execution_count": 7,
   "id": "c1a5eb64",
   "metadata": {},
   "outputs": [
    {
     "name": "stdout",
     "output_type": "stream",
     "text": [
      "보유금 : 124\n"
     ]
    }
   ],
   "source": [
    "money=int(input(\"보유금 : \"))\n",
    "if money>=10000:\n",
    "    print(\"택시를 탄다.\")"
   ]
  },
  {
   "cell_type": "code",
   "execution_count": 8,
   "id": "5b60a93f",
   "metadata": {},
   "outputs": [
    {
     "name": "stdout",
     "output_type": "stream",
     "text": [
      "실행문장2\n",
      "실행문장3\n"
     ]
    }
   ],
   "source": [
    "if False:\n",
    "    print(\"실행문장1\")\n",
    "else:\n",
    "    print(\"실행문장2\")\n",
    "print(\"실행문장3\")"
   ]
  },
  {
   "cell_type": "code",
   "execution_count": 9,
   "id": "4ae44770",
   "metadata": {},
   "outputs": [
    {
     "name": "stdout",
     "output_type": "stream",
     "text": [
      "보유금 : 123\n",
      "버스를 탄다.\n"
     ]
    }
   ],
   "source": [
    "money=int(input(\"보유금 : \"))\n",
    "if money>=10000:\n",
    "    print(\"택시를 탄다.\")\n",
    "else:\n",
    "    print(\"버스를 탄다.\")"
   ]
  },
  {
   "cell_type": "code",
   "execution_count": 10,
   "id": "afc9b33c",
   "metadata": {},
   "outputs": [
    {
     "name": "stdout",
     "output_type": "stream",
     "text": [
      "정수입력 >> 123\n",
      "3과 5의 배수가 아닙니다.\n"
     ]
    }
   ],
   "source": [
    "num=int(input(\"정수입력 >> \"))\n",
    "if num%3==0 and num%5==0:\n",
    "    print(\"3과 5의 배수입니다.\")\n",
    "else:\n",
    "    print(\"3과 5의 배수가 아닙니다.\")"
   ]
  },
  {
   "cell_type": "code",
   "execution_count": 11,
   "id": "c81103ba",
   "metadata": {},
   "outputs": [
    {
     "name": "stdout",
     "output_type": "stream",
     "text": [
      "정수입력 >> 123\n",
      "정수입력 >> 123\n",
      "두 수가 똑같습니다.\n"
     ]
    }
   ],
   "source": [
    "num1,num2=(int(input(\"정수입력 >> \")), int(input(\"정수입력 >> \")))\n",
    "if num1==num2:\n",
    "    print(\"두 수가 똑같습니다.\")\n",
    "elif num1>num2:\n",
    "    print(\"첫 번째 정수가 더 큽니다.\")\n",
    "else:\n",
    "    print(\"두 번째 정수가 더 큽니다.\")"
   ]
  },
  {
   "cell_type": "code",
   "execution_count": 12,
   "id": "a0ee1a52",
   "metadata": {},
   "outputs": [
    {
     "name": "stdout",
     "output_type": "stream",
     "text": [
      "점수입력 >> 124551\n",
      "124551점은 F학점 입니다.\n"
     ]
    }
   ],
   "source": [
    "score=int(input(\"점수입력 >> \"))\n",
    "if score<=100 and score>=90:\n",
    "    print(f\"{score}점은 A학점 입니다.\")\n",
    "elif score<90 and score>=80:\n",
    "    print(f\"{score}점은 B학점 입니다.\")\n",
    "elif score<80 and score>=70:\n",
    "    print(f\"{score}점은 C학점 입니다.\")\n",
    "elif score<70 and score>=60:\n",
    "    print(f\"{score}점은 D학점 입니다.\")\n",
    "else:\n",
    "    print(f\"{score}점은 F학점 입니다.\")"
   ]
  },
  {
   "cell_type": "code",
   "execution_count": 13,
   "id": "68729f22",
   "metadata": {},
   "outputs": [
    {
     "name": "stdout",
     "output_type": "stream",
     "text": [
      "점수입력 >> 213\n",
      "213점은 213학점 입니다.\n"
     ]
    }
   ],
   "source": [
    "score=int(input(\"점수입력 >> \"))\n",
    "if score<=100 and score>=90:\n",
    "    grade='A'\n",
    "elif score<90 and score>=80:\n",
    "    grade='B'\n",
    "elif score<80 and score>=70:\n",
    "    grade='C'\n",
    "elif score<70 and score>=60:\n",
    "    grade='D'\n",
    "else:\n",
    "    grade='F'\n",
    "print(f'{score}점은 {score}학점 입니다.')"
   ]
  },
  {
   "cell_type": "code",
   "execution_count": 14,
   "id": "aca69302",
   "metadata": {},
   "outputs": [
    {
     "name": "stdout",
     "output_type": "stream",
     "text": [
      "insert coin >> 124152\n",
      "메뉴 선택 >> 1\n",
      "\n",
      "================================================\n",
      "================---- 자판기 ----================\n",
      "================================================\n",
      "== 1.콜라 == 2.사이다 ==  3.물  =======insert===\n",
      "==--------==----------==--------=======------===\n",
      "==   600  ==    800   ==  1000  =======124152원===\n",
      "=======================================------===\n",
      "================================================\n",
      "==++++++++++++++++++++++++++++++++++++++++++++==\n",
      "==++++++++++++++++++++++++++++++++++++++++++++==\n",
      "==++++++++++++++++++++++++++++++++++++++++++++==\n",
      "==+++++++++++++++              +++++++++++++++==\n",
      "==+++++++++++++++     SMHRD    +++++++++++++++==\n",
      "==+++++++++++++++              +++++++++++++++==\n",
      "==++++++++++++++++++++++++++++++++++++++++++++==\n",
      "==++++++++++++++++++++++++++++++++++++++++++++==\n",
      "================================================\n",
      "================================================\n",
      "  ===                                      ===\n",
      "  ===                                      ===\n",
      "\n",
      "잔돈 >> 123552\n",
      "잔돈 >> 1000원 123장, 500원 1개, 100원 0개\n"
     ]
    }
   ],
   "source": [
    "coin=int(input(\"insert coin >> \"))\n",
    "menu=int(input(\"메뉴 선택 >> \"))\n",
    "out=0\n",
    "cola, cider, water =600, 800, 1000\n",
    "\n",
    "if menu==1:\n",
    "    if coin<cola:\n",
    "        print(\"잔액부족\")\n",
    "    else:\n",
    "        out=coin-cola\n",
    "elif menu==2:\n",
    "    if coin<cider:\n",
    "        print(\"잔액부족\")\n",
    "    else:\n",
    "        out=coin-cider\n",
    "elif menu==3:\n",
    "    if coin<water:\n",
    "        print(\"잔액부족\")\n",
    "    else:\n",
    "        out=coin-water\n",
    "else:\n",
    "    print(\"메뉴 다시 입력\")\n",
    "    \n",
    "print(f'''\n",
    "================================================\n",
    "================---- 자판기 ----================\n",
    "================================================\n",
    "== 1.콜라 == 2.사이다 ==  3.물  =======insert===\n",
    "==--------==----------==--------=======------===\n",
    "==   {cola}  ==    {cider}   ==  {water}  ======={coin}원===\n",
    "=======================================------===\n",
    "================================================\n",
    "==++++++++++++++++++++++++++++++++++++++++++++==\n",
    "==++++++++++++++++++++++++++++++++++++++++++++==\n",
    "==++++++++++++++++++++++++++++++++++++++++++++==\n",
    "==+++++++++++++++              +++++++++++++++==\n",
    "==+++++++++++++++     SMHRD    +++++++++++++++==\n",
    "==+++++++++++++++              +++++++++++++++==\n",
    "==++++++++++++++++++++++++++++++++++++++++++++==\n",
    "==++++++++++++++++++++++++++++++++++++++++++++==\n",
    "================================================\n",
    "================================================\n",
    "  ===                                      ===\n",
    "  ===                                      ===\n",
    "''')\n",
    "\n",
    "th=out//1000\n",
    "hu=(out%1000)//500\n",
    "te=(out%500)//100\n",
    "\n",
    "print(f\"잔돈 >> {out}\")\n",
    "print(f\"잔돈 >> 1000원 {th}장, 500원 {hu}개, 100원 {te}개\")\n"
   ]
  },
  {
   "cell_type": "markdown",
   "id": "65135455",
   "metadata": {},
   "source": [
    "### 리스트\n",
    "- 파이썬의 자료구조 형태 중 하나\n",
    "- 순서가 있는 수정이 가능한 객체의 집합\n",
    "- 추가, 수정, 삭제 가능!!"
   ]
  },
  {
   "cell_type": "code",
   "execution_count": 15,
   "id": "279499c1",
   "metadata": {},
   "outputs": [
    {
     "name": "stdout",
     "output_type": "stream",
     "text": [
      "[1, 2, 3]\n",
      "['my', 'name']\n",
      "[1, 2, ['my'], ['name']]\n"
     ]
    }
   ],
   "source": [
    "a=[]\n",
    "b=[1,2,3]\n",
    "c=['my', 'name']\n",
    "d=[1,2,'my','name']\n",
    "e=[1,2,['my'],['name']]\n",
    "print(b)\n",
    "print(c)\n",
    "print(e)\n",
    "\n"
   ]
  },
  {
   "cell_type": "code",
   "execution_count": 16,
   "id": "72e5ba76",
   "metadata": {},
   "outputs": [
    {
     "name": "stdout",
     "output_type": "stream",
     "text": [
      "1\n",
      "3\n",
      "4\n"
     ]
    }
   ],
   "source": [
    "list1 = [1,2,3,5,8]\n",
    "print(list1[0])\n",
    "print(list1[2])\n",
    "\n",
    "print(list1[2]+list1[0])"
   ]
  },
  {
   "cell_type": "code",
   "execution_count": 17,
   "id": "e20c547f",
   "metadata": {},
   "outputs": [
    {
     "data": {
      "text/plain": [
       "[1, 2, 3, ['a', 'b', 'c']]"
      ]
     },
     "execution_count": 17,
     "metadata": {},
     "output_type": "execute_result"
    }
   ],
   "source": [
    "list2 = [1,2,3,['a','b','c']]\n",
    "list2"
   ]
  },
  {
   "cell_type": "code",
   "execution_count": 18,
   "id": "2914c21d",
   "metadata": {},
   "outputs": [
    {
     "data": {
      "text/plain": [
       "'b'"
      ]
     },
     "execution_count": 18,
     "metadata": {},
     "output_type": "execute_result"
    }
   ],
   "source": [
    "temp =list2[3][1]\n",
    "temp"
   ]
  },
  {
   "cell_type": "code",
   "execution_count": 19,
   "id": "e8e56950",
   "metadata": {},
   "outputs": [
    {
     "name": "stdout",
     "output_type": "stream",
     "text": [
      "[0, 1]\n",
      "[0, 1]\n",
      "[2, 3, 4]\n"
     ]
    }
   ],
   "source": [
    "list3=[0,1,2,3,4]\n",
    "print(list3[0:2])\n",
    "print(list3[:2])\n",
    "print(list3[2:])"
   ]
  },
  {
   "cell_type": "code",
   "execution_count": 20,
   "id": "0bad04ae",
   "metadata": {},
   "outputs": [
    {
     "data": {
      "text/plain": [
       "[1, 2, 3, 4, 5]"
      ]
     },
     "execution_count": 20,
     "metadata": {},
     "output_type": "execute_result"
    }
   ],
   "source": [
    "list4=[1,2,3]\n",
    "list5=[4,5]\n",
    "list4+list5"
   ]
  },
  {
   "cell_type": "code",
   "execution_count": 21,
   "id": "8f4e8e00",
   "metadata": {},
   "outputs": [
    {
     "data": {
      "text/plain": [
       "[0, 1, 2, 3, 4, 5]"
      ]
     },
     "execution_count": 21,
     "metadata": {},
     "output_type": "execute_result"
    }
   ],
   "source": [
    "#append함수 활용한 값 추가(맨 뒤에 값이 추가된다.)\n",
    "list6 = [0,1,2,3,4]\n",
    "list6.append(5)\n",
    "list6"
   ]
  },
  {
   "cell_type": "code",
   "execution_count": 22,
   "id": "9282341b",
   "metadata": {},
   "outputs": [
    {
     "data": {
      "text/plain": [
       "['사과', '오렌지', '수박']"
      ]
     },
     "execution_count": 22,
     "metadata": {},
     "output_type": "execute_result"
    }
   ],
   "source": [
    "fruit=['사과', '포도', ['수박','멜론'], '복숭아', '딸기', '오렌지']\n",
    "choice_list=[]\n",
    "choice_list.append(fruit[0])\n",
    "choice_list.append(fruit[5])\n",
    "choice_list.append(fruit[2][0])\n",
    "\n",
    "choice_list\n"
   ]
  },
  {
   "cell_type": "code",
   "execution_count": 23,
   "id": "5fac8a4f",
   "metadata": {},
   "outputs": [],
   "source": [
    "#insert(인덱스위치, 값) 함수 사용!\n",
    "#인덱스 위치에 값 추가"
   ]
  },
  {
   "cell_type": "code",
   "execution_count": 24,
   "id": "a397f62f",
   "metadata": {},
   "outputs": [
    {
     "name": "stdout",
     "output_type": "stream",
     "text": [
      "[0, 5, 1, 2, 3, 4]\n",
      "[0, 5, 1, 2, 3, 6, 4]\n"
     ]
    }
   ],
   "source": [
    "list5=[0,1,2,3,4]\n",
    "list5.insert(1,5)\n",
    "print(list5)\n",
    "list5.insert(5,6)\n",
    "print(list5)"
   ]
  },
  {
   "cell_type": "code",
   "execution_count": 25,
   "id": "281b4f9f",
   "metadata": {},
   "outputs": [
    {
     "name": "stdout",
     "output_type": "stream",
     "text": [
      "인덱스 위치 입력 >> 1\n",
      "노래 제목 입력 >> butter\n",
      "가수 입력 >> 방탄\n"
     ]
    },
    {
     "data": {
      "text/plain": [
       "[['Butter', '방탄'], ['butter', '방탄'], ['헤픈우연', '헤이즈'], ['라일락', '아이유']]"
      ]
     },
     "execution_count": 25,
     "metadata": {},
     "output_type": "execute_result"
    }
   ],
   "source": [
    "loc=int(input(\"인덱스 위치 입력 >> \"))\n",
    "song = input(\"노래 제목 입력 >> \")\n",
    "singer=input(\"가수 입력 >> \")\n",
    "butter=['Butter','방탄']\n",
    "heppen=['헤픈우연', '헤이즈']\n",
    "lilac=['라일락', '아이유']\n",
    "\n",
    "music_list=[butter, heppen, lilac]\n",
    "\n",
    "music_list.insert(loc, [song, singer])\n",
    "music_list\n"
   ]
  },
  {
   "cell_type": "code",
   "execution_count": 26,
   "id": "c64e40de",
   "metadata": {},
   "outputs": [
    {
     "name": "stdout",
     "output_type": "stream",
     "text": [
      "2\n",
      "99\n"
     ]
    },
    {
     "data": {
      "text/plain": [
       "[1, 99, 3, 4, 5]"
      ]
     },
     "execution_count": 26,
     "metadata": {},
     "output_type": "execute_result"
    }
   ],
   "source": [
    "list6=[1,2,3,4,5]\n",
    "print(list6[1])\n",
    "list6[1]=99\n",
    "print(list6[1])\n",
    "list6"
   ]
  },
  {
   "cell_type": "code",
   "execution_count": 27,
   "id": "cb58e01d",
   "metadata": {},
   "outputs": [
    {
     "data": {
      "text/plain": [
       "[1, 99, 3, 7]"
      ]
     },
     "execution_count": 27,
     "metadata": {},
     "output_type": "execute_result"
    }
   ],
   "source": [
    "list6[3:5]=[7]\n",
    "list6"
   ]
  },
  {
   "cell_type": "code",
   "execution_count": 28,
   "id": "1d6e47ad",
   "metadata": {},
   "outputs": [
    {
     "data": {
      "text/plain": [
       "[['h', 'i', 'j'], ['a', 'b', 'c'], 3, 'd', 'e', 'f', 'g', 7]"
      ]
     },
     "execution_count": 28,
     "metadata": {},
     "output_type": "execute_result"
    }
   ],
   "source": [
    "array=[1,2,3,4,5]\n",
    "array[4]=7\n",
    "array[1]=['a','b','c']\n",
    "array[3:4]=['d','e','f','g']\n",
    "array[0]=['h','i','j']\n",
    "array"
   ]
  },
  {
   "cell_type": "code",
   "execution_count": 29,
   "id": "8a6e0590",
   "metadata": {},
   "outputs": [
    {
     "data": {
      "text/plain": [
       "[0, 2, 3, 4, 5]"
      ]
     },
     "execution_count": 29,
     "metadata": {},
     "output_type": "execute_result"
    }
   ],
   "source": [
    "list7=[0,1,2,3,4,5]\n",
    "#del 키워드\n",
    "del list7[1]\n",
    "list7"
   ]
  },
  {
   "cell_type": "code",
   "execution_count": 30,
   "id": "189d7f6a",
   "metadata": {},
   "outputs": [
    {
     "data": {
      "text/plain": [
       "[0, 5]"
      ]
     },
     "execution_count": 30,
     "metadata": {},
     "output_type": "execute_result"
    }
   ],
   "source": [
    "del list7[1:4]\n",
    "list7"
   ]
  },
  {
   "cell_type": "code",
   "execution_count": 31,
   "id": "7cc0c7bf",
   "metadata": {},
   "outputs": [
    {
     "data": {
      "text/plain": [
       "['a', 'c', 'd', 'e']"
      ]
     },
     "execution_count": 31,
     "metadata": {},
     "output_type": "execute_result"
    }
   ],
   "source": [
    "#remove() 함수 이용해서 값 삭제\n",
    "list7=['a','b','c','d','e']\n",
    "list7.remove('b')\n",
    "list7"
   ]
  },
  {
   "cell_type": "code",
   "execution_count": 32,
   "id": "e9b19ca4",
   "metadata": {},
   "outputs": [
    {
     "name": "stdout",
     "output_type": "stream",
     "text": [
      "[9, 77, 13, 51, 100, 3]\n",
      "[3, 100, 51, 13, 77, 9]\n",
      "[3, 9, 13, 51, 77, 100]\n",
      "[100, 77, 51, 13, 9, 3]\n"
     ]
    }
   ],
   "source": [
    "#정렬 \n",
    "#sort 오름차순정렬되어 저장\n",
    "#reverse 정렬 순서 거꾸로\n",
    "#reverse는 booleaan 값으로 대입 가능\n",
    "list8=[9,77,13,51,100,3]\n",
    "print(list8)\n",
    "\n",
    "list8.reverse()\n",
    "print(list8)\n",
    "list8.sort()\n",
    "print(list8)\n",
    "list8.reverse()\n",
    "print(list8)"
   ]
  },
  {
   "cell_type": "code",
   "execution_count": 41,
   "id": "45a91a11",
   "metadata": {},
   "outputs": [
    {
     "data": {
      "text/plain": [
       "[100, 77, 51, 13, 9, 3]"
      ]
     },
     "execution_count": 41,
     "metadata": {},
     "output_type": "execute_result"
    }
   ],
   "source": []
  },
  {
   "cell_type": "code",
   "execution_count": 33,
   "id": "ef6ca8ae",
   "metadata": {},
   "outputs": [
    {
     "data": {
      "text/plain": [
       "2"
      ]
     },
     "execution_count": 33,
     "metadata": {},
     "output_type": "execute_result"
    }
   ],
   "source": [
    "#index() - 찾고자하는 값의 위치를 반환\n",
    "list11=['a','b','c','d','e','f','c','c']\n",
    "list11.index('c')"
   ]
  },
  {
   "cell_type": "code",
   "execution_count": 34,
   "id": "34434f8f",
   "metadata": {},
   "outputs": [
    {
     "data": {
      "text/plain": [
       "3"
      ]
     },
     "execution_count": 34,
     "metadata": {},
     "output_type": "execute_result"
    }
   ],
   "source": [
    "#count() - 찾고자 하는 값이 몇 번 들어있는지 반환\n",
    "list11.count('c')"
   ]
  },
  {
   "cell_type": "code",
   "execution_count": 35,
   "id": "c4804e48",
   "metadata": {},
   "outputs": [
    {
     "data": {
      "text/plain": [
       "['a', 'b', 'c', 'd', 'e', 'f', 'c']"
      ]
     },
     "execution_count": 35,
     "metadata": {},
     "output_type": "execute_result"
    }
   ],
   "source": [
    "#pop() -마지막 값을 반환 후 삭제\n",
    "list11.pop()\n",
    "list11"
   ]
  },
  {
   "cell_type": "code",
   "execution_count": 36,
   "id": "e0a0de1f",
   "metadata": {},
   "outputs": [
    {
     "data": {
      "text/plain": [
       "7"
      ]
     },
     "execution_count": 36,
     "metadata": {},
     "output_type": "execute_result"
    }
   ],
   "source": [
    "#len(리스트) - 리스트 값 개수 반환\n",
    "len(list11)"
   ]
  },
  {
   "cell_type": "code",
   "execution_count": null,
   "id": "ef5c7ce4",
   "metadata": {},
   "outputs": [],
   "source": []
  },
  {
   "cell_type": "code",
   "execution_count": null,
   "id": "ad2461e6",
   "metadata": {},
   "outputs": [],
   "source": []
  },
  {
   "cell_type": "code",
   "execution_count": null,
   "id": "e50c238d",
   "metadata": {},
   "outputs": [],
   "source": []
  },
  {
   "cell_type": "code",
   "execution_count": null,
   "id": "a05e4e24",
   "metadata": {},
   "outputs": [],
   "source": []
  },
  {
   "cell_type": "code",
   "execution_count": null,
   "id": "57e28004",
   "metadata": {},
   "outputs": [],
   "source": []
  },
  {
   "cell_type": "code",
   "execution_count": null,
   "id": "dec4ce60",
   "metadata": {},
   "outputs": [],
   "source": []
  }
 ],
 "metadata": {
  "kernelspec": {
   "display_name": "Python 3 (ipykernel)",
   "language": "python",
   "name": "python3"
  },
  "language_info": {
   "codemirror_mode": {
    "name": "ipython",
    "version": 3
   },
   "file_extension": ".py",
   "mimetype": "text/x-python",
   "name": "python",
   "nbconvert_exporter": "python",
   "pygments_lexer": "ipython3",
   "version": "3.9.7"
  }
 },
 "nbformat": 4,
 "nbformat_minor": 5
}
